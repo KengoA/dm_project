{
 "cells": [
  {
   "cell_type": "markdown",
   "metadata": {
    "ExecuteTime": {
     "end_time": "2017-11-12T22:34:10.163267Z",
     "start_time": "2017-11-12T22:34:10.155412Z"
    },
    "collapsed": true
   },
   "source": [
    "## PCA + Standard Classifiers"
   ]
  },
  {
   "cell_type": "markdown",
   "metadata": {},
   "source": [
    "### Feature Extraction with PCA"
   ]
  },
  {
   "cell_type": "code",
   "execution_count": null,
   "metadata": {
    "ExecuteTime": {
     "end_time": "2017-11-12T22:55:42.384645Z",
     "start_time": "2017-11-12T22:55:42.378450Z"
    },
    "collapsed": true
   },
   "outputs": [],
   "source": [
    "import cv2\n",
    "import matplotlib.pyplot as plt\n",
    "import numpy as np\n",
    "import pandas as pd\n",
    "from tqdm import tqdm\n",
    "from sklearn import decomposition\n",
    "from sklearn.model_selection import train_test_split"
   ]
  },
  {
   "cell_type": "code",
   "execution_count": null,
   "metadata": {
    "ExecuteTime": {
     "end_time": "2017-11-12T22:55:43.282086Z",
     "start_time": "2017-11-12T22:55:43.012859Z"
    },
    "collapsed": true
   },
   "outputs": [],
   "source": [
    "#Read the csv file\n",
    "df = pd.read_csv('data/labels.csv')\n",
    "\n",
    "#Sort by frequency and extract top 10\n",
    "dist = df.groupby('breed').count().rename(columns={'id':'freq'})\n",
    "most_common = dist.sort_values(by='freq',ascending=False)\n",
    "top_10 = [i for i in most_common[:10].index]"
   ]
  },
  {
   "cell_type": "code",
   "execution_count": null,
   "metadata": {
    "ExecuteTime": {
     "end_time": "2017-11-12T22:55:44.011295Z",
     "start_time": "2017-11-12T22:55:43.982897Z"
    },
    "collapsed": true
   },
   "outputs": [],
   "source": [
    "#Select rows with breeds in top 10\n",
    "df = df[df['breed'].isin(top_10)]\n",
    "df.reset_index(drop=True, inplace=True)\n",
    "data_length = len(df)\n",
    "\n",
    "#Define dictionaries to convert between class value and the breed name\n",
    "breed = top_10\n",
    "class_length = len(breed)\n",
    "class_to_num = dict(zip(breed, range(class_length)))\n",
    "num_to_class = dict(zip(range(class_length), breed))\n",
    "\n",
    "#Set the dimension at 200\n",
    "dim = 200\n",
    "\n",
    "X = np.zeros((data_length, dim, dim, 3),dtype=np.uint8)\n",
    "y = np.zeros((data_length, class_length),dtype=np.uint8)\n",
    "\n",
    "X_flat = np.zeros((data_length, dim*dim*3),dtype=np.uint8)"
   ]
  },
  {
   "cell_type": "code",
   "execution_count": null,
   "metadata": {
    "ExecuteTime": {
     "end_time": "2017-11-12T22:55:52.438069Z",
     "start_time": "2017-11-12T22:55:44.929098Z"
    }
   },
   "outputs": [],
   "source": [
    "for i in tqdm(range(data_length)):\n",
    "    #Read in the image\n",
    "    image = cv2.imread('data/train/{}.jpg'.format(df['id'][i]))\n",
    "    #Resize\n",
    "    resized = cv2.resize(image,(dim, dim))\n",
    "    #Remove single-dimensional entries\n",
    "    np.squeeze(np.array(resized).astype(np.float32))        \n",
    "    #Flatten\n",
    "    flat_arr = resized.ravel()\n",
    "\n",
    "    X_flat[i] = flat_arr\n",
    "    #Increment the categorical value for the corresponding breed by 1\n",
    "    y[i][class_to_num[df['breed'][i]]] = 1"
   ]
  },
  {
   "cell_type": "code",
   "execution_count": null,
   "metadata": {
    "ExecuteTime": {
     "end_time": "2017-11-12T22:55:57.867812Z",
     "start_time": "2017-11-12T22:55:57.857774Z"
    }
   },
   "outputs": [],
   "source": [
    "#Check the shape\n",
    "X_flat.shape"
   ]
  },
  {
   "cell_type": "code",
   "execution_count": null,
   "metadata": {
    "ExecuteTime": {
     "end_time": "2017-11-12T22:55:58.600908Z",
     "start_time": "2017-11-12T22:55:58.594839Z"
    },
    "collapsed": true
   },
   "outputs": [],
   "source": [
    "n_components_ = 50"
   ]
  },
  {
   "cell_type": "code",
   "execution_count": null,
   "metadata": {
    "ExecuteTime": {
     "end_time": "2017-11-12T22:56:16.783350Z",
     "start_time": "2017-11-12T22:55:59.387839Z"
    }
   },
   "outputs": [],
   "source": [
    "pca = decomposition.PCA(n_components=n_components_)\n",
    "#pca = decomposition.TruncatedSVD(n_components=n_components_, algorithm='randomized')\n",
    "pca.fit(X_flat)"
   ]
  },
  {
   "cell_type": "code",
   "execution_count": null,
   "metadata": {
    "ExecuteTime": {
     "end_time": "2017-11-12T22:56:22.525448Z",
     "start_time": "2017-11-12T22:56:22.518653Z"
    }
   },
   "outputs": [],
   "source": [
    "#Check how much variance of the original data is explained by the components\n",
    "pca.explained_variance_ratio_.sum()"
   ]
  },
  {
   "cell_type": "code",
   "execution_count": null,
   "metadata": {
    "ExecuteTime": {
     "end_time": "2017-11-12T22:56:54.383804Z",
     "start_time": "2017-11-12T22:56:26.531362Z"
    }
   },
   "outputs": [],
   "source": [
    "X_reduced = np.zeros((X_flat.shape[0], n_components_),dtype=np.float32)\n",
    "\n",
    "for i in tqdm(range(len(X_flat))):\n",
    "    pca_arr = pca.transform(X_flat[i].reshape(1, -1))\n",
    "    X_reduced[i] = pca_arr"
   ]
  },
  {
   "cell_type": "code",
   "execution_count": null,
   "metadata": {
    "ExecuteTime": {
     "end_time": "2017-11-12T22:56:55.352545Z",
     "start_time": "2017-11-12T22:56:55.343934Z"
    },
    "collapsed": true
   },
   "outputs": [],
   "source": [
    "np.save('data/features/pca_train.npy',X_reduced)\n",
    "X_reduced = np.load('data/features/pca_train.npy')"
   ]
  },
  {
   "cell_type": "code",
   "execution_count": null,
   "metadata": {
    "ExecuteTime": {
     "end_time": "2017-11-12T22:56:58.833457Z",
     "start_time": "2017-11-12T22:56:58.789730Z"
    },
    "collapsed": true
   },
   "outputs": [],
   "source": [
    "y_categorical = np.array([None]*data_length)\n",
    "for i in range(len(y)):\n",
    "    y_categorical[i] = df['breed'][i]\n",
    "\n",
    "y_categorical = [class_to_num[i] for i in y_categorical]"
   ]
  },
  {
   "cell_type": "code",
   "execution_count": null,
   "metadata": {
    "ExecuteTime": {
     "end_time": "2017-11-12T22:57:27.587583Z",
     "start_time": "2017-11-12T22:57:27.577604Z"
    },
    "collapsed": true
   },
   "outputs": [],
   "source": [
    "#Split the data into train and test, then normalise them\n",
    "X_train, X_test, y_train, y_test = train_test_split(X_reduced, y_categorical, test_size=0.2)\n",
    "\n",
    "X_train = X_train.astype('float32')\n",
    "X_test = X_test.astype('float32')\n",
    "X_train /= 200.0\n",
    "X_test /= 200.0"
   ]
  },
  {
   "cell_type": "markdown",
   "metadata": {},
   "source": [
    "## GridSearchCV\n",
    "\n",
    "Add more classifiers and check the performance"
   ]
  },
  {
   "cell_type": "code",
   "execution_count": null,
   "metadata": {
    "ExecuteTime": {
     "end_time": "2017-11-12T22:57:28.747190Z",
     "start_time": "2017-11-12T22:57:28.737801Z"
    },
    "collapsed": true
   },
   "outputs": [],
   "source": [
    "from sklearn.svm import SVC\n",
    "from sklearn.ensemble import AdaBoostClassifier, RandomForestClassifier\n",
    "from sklearn.naive_bayes import GaussianNB\n",
    "from sklearn.linear_model import SGDClassifier\n",
    "from sklearn.metrics import accuracy_score, fbeta_score\n",
    "from sklearn.model_selection import GridSearchCV"
   ]
  },
  {
   "cell_type": "code",
   "execution_count": null,
   "metadata": {
    "ExecuteTime": {
     "end_time": "2017-11-12T22:57:29.790564Z",
     "start_time": "2017-11-12T22:57:29.785017Z"
    },
    "collapsed": true
   },
   "outputs": [],
   "source": [
    "clf_svc = SVC()\n",
    "clf_nb = GaussianNB()\n",
    "clf_sgd = SGDClassifier(max_iter=10000, tol=1e-3)\n",
    "clf_ada = AdaBoostClassifier()\n",
    "clf_rf = RandomForestClassifier()\n",
    "clfs = [clf_svc, clf_nb, clf_sgd, clf_ada, clf_rf]"
   ]
  },
  {
   "cell_type": "code",
   "execution_count": null,
   "metadata": {
    "ExecuteTime": {
     "start_time": "2017-11-12T22:48:58.170Z"
    }
   },
   "outputs": [],
   "source": [
    "#Find the baselines without parameter-tuning\n",
    "for clf in clfs:\n",
    "    clf.fit(X_train, y_train)\n",
    "    pred = clf.predict(X_test)\n",
    "    print(accuracy_score(pred, y_test))"
   ]
  },
  {
   "cell_type": "code",
   "execution_count": null,
   "metadata": {
    "ExecuteTime": {
     "start_time": "2017-11-12T23:01:21.181Z"
    }
   },
   "outputs": [],
   "source": [
    "#Find the best parameters with GridSearchCV\n",
    "parameters = {'C': [0.1, 1],\n",
    "              'kernel': ['rbf', 'linear'],\n",
    "              'probability': [True]\n",
    "              }\n",
    "grid = GridSearchCV(estimator=clf_svc, param_grid=parameters, verbose=5, n_jobs=-1)\n",
    "grid.fit(X_train, y_train) "
   ]
  },
  {
   "cell_type": "code",
   "execution_count": null,
   "metadata": {
    "ExecuteTime": {
     "end_time": "2017-11-12T23:01:14.949057Z",
     "start_time": "2017-11-12T23:01:14.923403Z"
    }
   },
   "outputs": [],
   "source": [
    "#Display and write the result into a txt file\n",
    "print(grid)\n",
    "print(grid.best_estimator_)\n",
    "\n",
    "with open('data/parameters/svc.txt', 'a') as file:\n",
    "    file.write(str(grid))\n",
    "    file.write(str(grid.best_estimator_)) "
   ]
  }
 ],
 "metadata": {
  "kernelspec": {
   "display_name": "Python 3",
   "language": "python",
   "name": "python3"
  },
  "language_info": {
   "codemirror_mode": {
    "name": "ipython",
    "version": 3
   },
   "file_extension": ".py",
   "mimetype": "text/x-python",
   "name": "python",
   "nbconvert_exporter": "python",
   "pygments_lexer": "ipython3",
   "version": "3.6.1"
  },
  "varInspector": {
   "cols": {
    "lenName": 16,
    "lenType": 16,
    "lenVar": 40
   },
   "kernels_config": {
    "python": {
     "delete_cmd_postfix": "",
     "delete_cmd_prefix": "del ",
     "library": "var_list.py",
     "varRefreshCmd": "print(var_dic_list())"
    },
    "r": {
     "delete_cmd_postfix": ") ",
     "delete_cmd_prefix": "rm(",
     "library": "var_list.r",
     "varRefreshCmd": "cat(var_dic_list()) "
    }
   },
   "types_to_exclude": [
    "module",
    "function",
    "builtin_function_or_method",
    "instance",
    "_Feature"
   ],
   "window_display": false
  }
 },
 "nbformat": 4,
 "nbformat_minor": 2
}
