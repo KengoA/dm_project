{
 "cells": [
  {
   "cell_type": "markdown",
   "metadata": {
    "ExecuteTime": {
     "end_time": "2017-11-12T22:34:10.163267Z",
     "start_time": "2017-11-12T22:34:10.155412Z"
    },
    "collapsed": true
   },
   "source": [
    "## PCA + Standard Classifiers"
   ]
  },
  {
   "cell_type": "markdown",
   "metadata": {},
   "source": [
    "### Feature Extraction with PCA"
   ]
  },
  {
   "cell_type": "code",
   "execution_count": 74,
   "metadata": {
    "ExecuteTime": {
     "end_time": "2017-11-22T14:37:08.040985Z",
     "start_time": "2017-11-22T14:37:08.031768Z"
    },
    "collapsed": true
   },
   "outputs": [],
   "source": [
    "import cv2\n",
    "import matplotlib.pyplot as plt\n",
    "import numpy as np\n",
    "import pandas as pd\n",
    "from tqdm import tqdm\n",
    "from sklearn import decomposition\n",
    "from sklearn.model_selection import train_test_split"
   ]
  },
  {
   "cell_type": "code",
   "execution_count": 75,
   "metadata": {
    "ExecuteTime": {
     "end_time": "2017-11-22T14:37:08.795045Z",
     "start_time": "2017-11-22T14:37:08.768773Z"
    },
    "collapsed": true
   },
   "outputs": [],
   "source": [
    "#Read the csv file\n",
    "df = pd.read_csv('data/labels.csv')\n",
    "\n",
    "#Sort by frequency and extract top 10\n",
    "dist = df.groupby('breed').count().rename(columns={'id':'freq'})\n",
    "most_common = dist.sort_values(by='freq',ascending=False)\n",
    "#top_10 = [i for i in most_common[:10].index]\n",
    "target_10 = ['siberian_husky', 'maltese_dog', 'afghan_hound', 'airedale',\n",
    "             'bernese_mountain_dog', 'beagle', 'blenheim_spaniel', 'pomeranian',\n",
    "             'basenji', 'samoyed']"
   ]
  },
  {
   "cell_type": "code",
   "execution_count": 76,
   "metadata": {
    "ExecuteTime": {
     "end_time": "2017-11-22T14:37:09.633011Z",
     "start_time": "2017-11-22T14:37:09.595140Z"
    },
    "collapsed": true
   },
   "outputs": [],
   "source": [
    "#Select rows with breeds in target 10\n",
    "df = df[df['breed'].isin(target_10)]\n",
    "df.reset_index(drop=True, inplace=True)\n",
    "data_length = len(df)\n",
    "\n",
    "#Define dictionaries to convert between class value and the breed name\n",
    "#breed = top_10\n",
    "breed = target_10\n",
    "class_length = len(breed)\n",
    "class_to_num = dict(zip(breed, range(class_length)))\n",
    "num_to_class = dict(zip(range(class_length), breed))\n",
    "\n",
    "#Set the dimension at 200\n",
    "dim = 200\n",
    "\n",
    "X = np.zeros((data_length, dim, dim, 3),dtype=np.uint8)\n",
    "y = np.zeros((data_length, class_length),dtype=np.uint8)\n",
    "\n",
    "X_flat = np.zeros((data_length, dim*dim*3),dtype=np.uint8)"
   ]
  },
  {
   "cell_type": "code",
   "execution_count": 77,
   "metadata": {
    "ExecuteTime": {
     "end_time": "2017-11-22T14:37:15.866997Z",
     "start_time": "2017-11-22T14:37:10.679068Z"
    }
   },
   "outputs": [
    {
     "name": "stderr",
     "output_type": "stream",
     "text": [
      "100%|██████████| 1086/1086 [00:05<00:00, 210.43it/s]\n"
     ]
    }
   ],
   "source": [
    "for i in tqdm(range(data_length)):\n",
    "    #Read in the image\n",
    "    image = cv2.imread('data/train/{}.jpg'.format(df['id'][i]))\n",
    "    #Resize\n",
    "    resized = cv2.resize(image,(dim, dim))\n",
    "    #Remove single-dimensional entries\n",
    "    np.squeeze(np.array(resized).astype(np.float32))        \n",
    "    #Flatten\n",
    "    flat_arr = resized.ravel()\n",
    "\n",
    "    X_flat[i] = flat_arr\n",
    "    #Increment the categorical value for the corresponding breed by 1\n",
    "    y[i][class_to_num[df['breed'][i]]] = 1"
   ]
  },
  {
   "cell_type": "code",
   "execution_count": 78,
   "metadata": {
    "ExecuteTime": {
     "end_time": "2017-11-22T14:37:16.802833Z",
     "start_time": "2017-11-22T14:37:16.788533Z"
    }
   },
   "outputs": [
    {
     "data": {
      "text/plain": [
       "(1086, 120000)"
      ]
     },
     "execution_count": 78,
     "metadata": {},
     "output_type": "execute_result"
    }
   ],
   "source": [
    "#Check the shape\n",
    "X_flat.shape"
   ]
  },
  {
   "cell_type": "code",
   "execution_count": 79,
   "metadata": {
    "ExecuteTime": {
     "end_time": "2017-11-22T14:37:17.510549Z",
     "start_time": "2017-11-22T14:37:17.507583Z"
    },
    "collapsed": true
   },
   "outputs": [],
   "source": [
    "n_components_ = 50"
   ]
  },
  {
   "cell_type": "code",
   "execution_count": 80,
   "metadata": {
    "ExecuteTime": {
     "end_time": "2017-11-22T14:37:45.472994Z",
     "start_time": "2017-11-22T14:37:18.314277Z"
    }
   },
   "outputs": [
    {
     "data": {
      "text/plain": [
       "PCA(copy=True, iterated_power='auto', n_components=50, random_state=None,\n",
       "  svd_solver='auto', tol=0.0, whiten=False)"
      ]
     },
     "execution_count": 80,
     "metadata": {},
     "output_type": "execute_result"
    }
   ],
   "source": [
    "pca = decomposition.PCA(n_components=n_components_)\n",
    "#pca = decomposition.TruncatedSVD(n_components=n_components_, algorithm='randomized')\n",
    "pca.fit(X_flat)"
   ]
  },
  {
   "cell_type": "code",
   "execution_count": 81,
   "metadata": {
    "ExecuteTime": {
     "end_time": "2017-11-22T14:38:51.918547Z",
     "start_time": "2017-11-22T14:38:51.912011Z"
    }
   },
   "outputs": [
    {
     "data": {
      "text/plain": [
       "0.73050941052261409"
      ]
     },
     "execution_count": 81,
     "metadata": {},
     "output_type": "execute_result"
    }
   ],
   "source": [
    "#Check how much variance of the original data is explained by the components\n",
    "pca.explained_variance_ratio_.sum()"
   ]
  },
  {
   "cell_type": "code",
   "execution_count": 82,
   "metadata": {
    "ExecuteTime": {
     "end_time": "2017-11-22T14:39:30.848563Z",
     "start_time": "2017-11-22T14:38:52.735592Z"
    }
   },
   "outputs": [
    {
     "name": "stderr",
     "output_type": "stream",
     "text": [
      "100%|██████████| 1086/1086 [00:38<00:00, 28.51it/s]\n"
     ]
    }
   ],
   "source": [
    "X_reduced = np.zeros((X_flat.shape[0], n_components_),dtype=np.float32)\n",
    "\n",
    "for i in tqdm(range(len(X_flat))):\n",
    "    pca_arr = pca.transform(X_flat[i].reshape(1, -1))\n",
    "    X_reduced[i] = pca_arr"
   ]
  },
  {
   "cell_type": "code",
   "execution_count": 37,
   "metadata": {
    "ExecuteTime": {
     "end_time": "2017-11-22T14:22:14.775063Z",
     "start_time": "2017-11-22T14:22:14.765210Z"
    },
    "collapsed": true
   },
   "outputs": [],
   "source": [
    "np.save('data/features/pca_train.npy',X_reduced)\n",
    "X_reduced = np.load('data/features/pca_train.npy')"
   ]
  },
  {
   "cell_type": "code",
   "execution_count": 83,
   "metadata": {
    "ExecuteTime": {
     "end_time": "2017-11-22T14:40:30.366032Z",
     "start_time": "2017-11-22T14:40:30.317010Z"
    },
    "collapsed": true
   },
   "outputs": [],
   "source": [
    "y_categorical = np.array([None]*data_length)\n",
    "for i in range(len(y)):\n",
    "    y_categorical[i] = df['breed'][i]\n",
    "\n",
    "y_categorical = [class_to_num[i] for i in y_categorical]"
   ]
  },
  {
   "cell_type": "code",
   "execution_count": 84,
   "metadata": {
    "ExecuteTime": {
     "end_time": "2017-11-22T14:40:31.339507Z",
     "start_time": "2017-11-22T14:40:31.331437Z"
    },
    "collapsed": true
   },
   "outputs": [],
   "source": [
    "#Split the data into train and test, then normalise them\n",
    "X_train, X_test, y_train, y_test = train_test_split(X_reduced, y_categorical, test_size=0.2)\n",
    "\n",
    "X_train = X_train.astype('float32')\n",
    "X_test = X_test.astype('float32')\n",
    "X_train /= 255.0\n",
    "X_test /= 255.0"
   ]
  },
  {
   "cell_type": "markdown",
   "metadata": {},
   "source": [
    "## GridSearchCV\n",
    "\n",
    "Add more classifiers and check the performance"
   ]
  },
  {
   "cell_type": "code",
   "execution_count": 85,
   "metadata": {
    "ExecuteTime": {
     "end_time": "2017-11-22T14:40:32.649521Z",
     "start_time": "2017-11-22T14:40:32.637503Z"
    },
    "collapsed": true
   },
   "outputs": [],
   "source": [
    "from sklearn.svm import SVC\n",
    "from sklearn.ensemble import AdaBoostClassifier, RandomForestClassifier\n",
    "from sklearn.naive_bayes import GaussianNB\n",
    "from sklearn.linear_model import SGDClassifier\n",
    "from sklearn.metrics import accuracy_score, fbeta_score\n",
    "from sklearn.model_selection import GridSearchCV"
   ]
  },
  {
   "cell_type": "code",
   "execution_count": 88,
   "metadata": {
    "ExecuteTime": {
     "end_time": "2017-11-22T14:40:38.233345Z",
     "start_time": "2017-11-22T14:40:38.224106Z"
    },
    "collapsed": true
   },
   "outputs": [],
   "source": [
    "clf_svc = SVC(kernel='linear',C=0.000125, gamma=100000)\n",
    "clf_nb = GaussianNB()\n",
    "clf_sgd = SGDClassifier(max_iter=10000, tol=1e-3)\n",
    "clf_ada = AdaBoostClassifier()\n",
    "clf_rf = RandomForestClassifier()\n",
    "clfs = [clf_svc, clf_nb, clf_sgd, clf_ada, clf_rf]"
   ]
  },
  {
   "cell_type": "code",
   "execution_count": 90,
   "metadata": {
    "ExecuteTime": {
     "end_time": "2017-11-22T14:40:40.554415Z",
     "start_time": "2017-11-22T14:40:40.013494Z"
    }
   },
   "outputs": [
    {
     "name": "stdout",
     "output_type": "stream",
     "text": [
      "0.238532110092\n",
      "0.233944954128\n",
      "0.211009174312\n",
      "0.215596330275\n",
      "0.183486238532\n"
     ]
    }
   ],
   "source": [
    "#Find the baselines without parameter-tuning\n",
    "for clf in clfs:\n",
    "    clf.fit(X_train, y_train)\n",
    "    pred = clf.predict(X_test)\n",
    "    print(accuracy_score(pred, y_test))"
   ]
  },
  {
   "cell_type": "code",
   "execution_count": null,
   "metadata": {
    "ExecuteTime": {
     "start_time": "2017-11-22T14:40:45.813Z"
    }
   },
   "outputs": [
    {
     "name": "stdout",
     "output_type": "stream",
     "text": [
      "Fitting 3 folds for each of 4 candidates, totalling 12 fits\n",
      "[CV] C=0.1, kernel=rbf, probability=True .............................\n",
      "[CV] C=0.1, kernel=rbf, probability=True .............................\n",
      "[CV] C=0.1, kernel=rbf, probability=True .............................\n",
      "[CV] C=0.1, kernel=linear, probability=True ..........................\n",
      "[CV]  C=0.1, kernel=rbf, probability=True, score=0.1103448275862069, total=   0.5s\n",
      "[CV] C=0.1, kernel=linear, probability=True ..........................\n",
      "[CV]  C=0.1, kernel=rbf, probability=True, score=0.11188811188811189, total=   0.5s\n",
      "[CV] C=0.1, kernel=linear, probability=True ..........................\n",
      "[CV]  C=0.1, kernel=rbf, probability=True, score=0.11301369863013698, total=   0.5s\n",
      "[CV] C=1, kernel=rbf, probability=True ...............................\n",
      "[CV]  C=1, kernel=rbf, probability=True, score=0.11301369863013698, total=   0.5s\n",
      "[CV] C=1, kernel=rbf, probability=True ...............................\n",
      "[CV]  C=1, kernel=rbf, probability=True, score=0.1103448275862069, total=   0.5s\n",
      "[CV] C=1, kernel=rbf, probability=True ...............................\n",
      "[CV]  C=1, kernel=rbf, probability=True, score=0.11188811188811189, total=   0.5s\n",
      "[CV] C=1, kernel=linear, probability=True ............................\n",
      "[CV]  C=0.1, kernel=linear, probability=True, score=0.21232876712328766, total=   5.1s\n",
      "[CV] C=1, kernel=linear, probability=True ............................\n",
      "[CV]  C=0.1, kernel=linear, probability=True, score=0.18275862068965518, total=   4.6s\n",
      "[CV] C=1, kernel=linear, probability=True ............................\n"
     ]
    },
    {
     "name": "stderr",
     "output_type": "stream",
     "text": [
      "[Parallel(n_jobs=-1)]: Done   8 out of  12 | elapsed:    5.2s remaining:    2.6s\n"
     ]
    },
    {
     "name": "stdout",
     "output_type": "stream",
     "text": [
      "[CV]  C=0.1, kernel=linear, probability=True, score=0.21328671328671328, total=   5.2s\n"
     ]
    }
   ],
   "source": [
    "#Find the best parameters with GridSearchCV\n",
    "parameters = {'C': [0.1, 1],\n",
    "              'kernel': ['rbf', 'linear'],\n",
    "              'probability': [True]\n",
    "              }\n",
    "grid = GridSearchCV(estimator=clf_svc, param_grid=parameters, verbose=5, n_jobs=-1)\n",
    "grid.fit(X_train, y_train) "
   ]
  },
  {
   "cell_type": "code",
   "execution_count": 24,
   "metadata": {
    "ExecuteTime": {
     "end_time": "2017-11-22T14:15:26.269469Z",
     "start_time": "2017-11-22T14:15:26.241893Z"
    }
   },
   "outputs": [
    {
     "name": "stdout",
     "output_type": "stream",
     "text": [
      "GridSearchCV(cv=None, error_score='raise',\n",
      "       estimator=SVC(C=1.0, cache_size=200, class_weight=None, coef0=0.0,\n",
      "  decision_function_shape='ovr', degree=3, gamma='auto', kernel='rbf',\n",
      "  max_iter=-1, probability=False, random_state=None, shrinking=True,\n",
      "  tol=0.001, verbose=False),\n",
      "       fit_params=None, iid=True, n_jobs=-1,\n",
      "       param_grid={'C': [0.1, 1], 'kernel': ['rbf', 'linear'], 'probability': [True]},\n",
      "       pre_dispatch='2*n_jobs', refit=True, return_train_score=True,\n",
      "       scoring=None, verbose=5)\n",
      "SVC(C=0.1, cache_size=200, class_weight=None, coef0=0.0,\n",
      "  decision_function_shape='ovr', degree=3, gamma='auto', kernel='linear',\n",
      "  max_iter=-1, probability=True, random_state=None, shrinking=True,\n",
      "  tol=0.001, verbose=False)\n"
     ]
    }
   ],
   "source": [
    "#Display and write the result into a txt file\n",
    "print(grid)\n",
    "print(grid.best_estimator_)\n",
    "\n",
    "with open('data/parameters/svc.txt', 'a') as file:\n",
    "    file.write(str(grid))\n",
    "    file.write(str(grid.best_estimator_)) "
   ]
  }
 ],
 "metadata": {
  "kernelspec": {
   "display_name": "Python 3",
   "language": "python",
   "name": "python3"
  },
  "language_info": {
   "codemirror_mode": {
    "name": "ipython",
    "version": 3
   },
   "file_extension": ".py",
   "mimetype": "text/x-python",
   "name": "python",
   "nbconvert_exporter": "python",
   "pygments_lexer": "ipython3",
   "version": "3.6.1"
  },
  "varInspector": {
   "cols": {
    "lenName": 16,
    "lenType": 16,
    "lenVar": 40
   },
   "kernels_config": {
    "python": {
     "delete_cmd_postfix": "",
     "delete_cmd_prefix": "del ",
     "library": "var_list.py",
     "varRefreshCmd": "print(var_dic_list())"
    },
    "r": {
     "delete_cmd_postfix": ") ",
     "delete_cmd_prefix": "rm(",
     "library": "var_list.r",
     "varRefreshCmd": "cat(var_dic_list()) "
    }
   },
   "types_to_exclude": [
    "module",
    "function",
    "builtin_function_or_method",
    "instance",
    "_Feature"
   ],
   "window_display": false
  }
 },
 "nbformat": 4,
 "nbformat_minor": 2
}
