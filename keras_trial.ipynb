{
 "cells": [
  {
   "cell_type": "markdown",
   "metadata": {
    "ExecuteTime": {
     "end_time": "2017-11-06T13:45:29.481454Z",
     "start_time": "2017-11-06T13:45:25.061910Z"
    }
   },
   "source": [
    "## Preprocess"
   ]
  },
  {
   "cell_type": "code",
   "execution_count": null,
   "metadata": {
    "ExecuteTime": {
     "end_time": "2017-11-08T03:34:19.405360Z",
     "start_time": "2017-11-08T03:34:12.659871Z"
    }
   },
   "outputs": [],
   "source": [
    "import cv2\n",
    "import numpy as np\n",
    "import pandas as pd\n",
    "from random import randint\n",
    "import matplotlib.pyplot as plt\n",
    "from tqdm import tqdm\n",
    "\n",
    "%matplotlib inline\n",
    "%config InlineBackend.figure_format = 'retina'"
   ]
  },
  {
   "cell_type": "code",
   "execution_count": null,
   "metadata": {
    "ExecuteTime": {
     "end_time": "2017-11-08T03:34:19.589984Z",
     "start_time": "2017-11-08T03:34:19.446840Z"
    },
    "collapsed": true
   },
   "outputs": [],
   "source": [
    "train_labels = pd.read_csv('data/labels.csv')"
   ]
  },
  {
   "cell_type": "code",
   "execution_count": null,
   "metadata": {
    "ExecuteTime": {
     "end_time": "2017-11-08T03:34:19.813271Z",
     "start_time": "2017-11-08T03:34:19.803106Z"
    }
   },
   "outputs": [],
   "source": [
    "train_len = len(train_labels)\n",
    "breeds = set(train_labels['breed'])\n",
    "class_len = len(breeds)\n",
    "class_to_num = dict(zip(breeds, range(class_len)))\n",
    "num_to_class = dict(zip(range(class_len), breeds))"
   ]
  },
  {
   "cell_type": "code",
   "execution_count": null,
   "metadata": {
    "ExecuteTime": {
     "end_time": "2017-11-08T03:54:48.055452Z",
     "start_time": "2017-11-08T03:53:00.192377Z"
    }
   },
   "outputs": [],
   "source": [
    "dim = 299\n",
    "X_train = np.zeros((train_len, dim, dim, 3),dtype=np.uint8)\n",
    "y_train = np.zeros((train_len, class_len),dtype=np.uint8)\n",
    "for i in tqdm(range(train_len)):\n",
    "    image_path = 'data/train/{}.jpg'.format(train_labels['id'][i])\n",
    "    X_train[i] = cv2.resize(cv2.imread(image_path), (dim,dim))\n",
    "    y_train[i][class_to_num[train_labels['breed'][i]]] = 1"
   ]
  },
  {
   "cell_type": "code",
   "execution_count": null,
   "metadata": {
    "ExecuteTime": {
     "end_time": "2017-11-08T03:55:45.438406Z",
     "start_time": "2017-11-08T03:55:31.846276Z"
    }
   },
   "outputs": [],
   "source": [
    "plt.figure(figsize=(12,6))\n",
    "for i in range(8):\n",
    "    index = randint(0,train_len-1)\n",
    "    plt.subplot(2,4,i+1)\n",
    "    plt.imshow(X_train[index][:,:,::-1])\n",
    "    plt.title(num_to_class[y_train[index].argmax()])"
   ]
  },
  {
   "cell_type": "markdown",
   "metadata": {},
   "source": [
    "## Keras Implementation"
   ]
  },
  {
   "cell_type": "code",
   "execution_count": null,
   "metadata": {
    "ExecuteTime": {
     "end_time": "2017-11-08T03:36:08.703474Z",
     "start_time": "2017-11-08T03:35:43.146563Z"
    }
   },
   "outputs": [],
   "source": [
    "from keras.layers import Input, Dense, Lambda, Flatten, GlobalAveragePooling2D, Dropout, Activation\n",
    "from keras.models import Model, Sequential\n",
    "from keras.applications import *\n",
    "from keras.optimizers import *\n",
    "from keras.regularizers import *\n",
    "from keras.applications.inception_v3 import preprocess_input"
   ]
  },
  {
   "cell_type": "code",
   "execution_count": null,
   "metadata": {
    "ExecuteTime": {
     "end_time": "2017-11-08T03:44:35.364685Z",
     "start_time": "2017-11-08T03:44:35.352184Z"
    }
   },
   "outputs": [],
   "source": [
    "def feature_extraction(base_model, X):\n",
    "    model = base_model(include_top=False, input_shape=(dim,dim,3), weights='imagenet')\n",
    "    inputs = Input((dim, dim, 3))\n",
    "    x = inputs\n",
    "    x = Lambda(preprocess_input, name='preprocessing')(x)\n",
    "    x = model(x)\n",
    "    x = GlobalAveragePooling2D()(x)\n",
    "    model = Model(inputs,x)\n",
    "    features = model.predict(X, batch_size=1, verbose=1)\n",
    "    return features"
   ]
  },
  {
   "cell_type": "code",
   "execution_count": null,
   "metadata": {
    "ExecuteTime": {
     "end_time": "2017-11-08T03:44:40.754554Z",
     "start_time": "2017-11-08T03:44:37.338477Z"
    }
   },
   "outputs": [],
   "source": [
    "inception_features_train = feature_extraction(InceptionV3, X_train)\n",
    "np.save('data/features/inception_features_train.npy', inception_features_train)"
   ]
  },
  {
   "cell_type": "code",
   "execution_count": null,
   "metadata": {
    "ExecuteTime": {
     "end_time": "2017-11-08T03:41:27.729574Z",
     "start_time": "2017-11-08T03:41:21.542706Z"
    }
   },
   "outputs": [],
   "source": [
    "xception_features_train = feature_extraction(Xception, X_train)\n",
    "np.save('data/features/xception_features_train.npy', xception_features_train)"
   ]
  },
  {
   "cell_type": "code",
   "execution_count": null,
   "metadata": {
    "ExecuteTime": {
     "end_time": "2017-11-07T23:31:19.163235Z",
     "start_time": "2017-11-07T21:59:21.550530Z"
    }
   },
   "outputs": [],
   "source": [
    "#resnet_features_train = feature_extraction(ResNet50, X_train)\n",
    "#np.save('data/features/resnet_features_train.npy', resnet_features_train)"
   ]
  },
  {
   "cell_type": "code",
   "execution_count": null,
   "metadata": {
    "ExecuteTime": {
     "end_time": "2017-11-08T03:44:56.602128Z",
     "start_time": "2017-11-08T03:44:49.044609Z"
    },
    "collapsed": true
   },
   "outputs": [],
   "source": [
    "inception_features_train = np.load('data/features/inception_features_train.npy')\n",
    "xception_features_train = np.load('data/features/xception_features_train.npy')\n",
    "vgg19_features_train = np.load('data/features/vgg19_features_train.npy')\n",
    "#resnet_features_train = np.load('data/features/resnet_features_train.npy')"
   ]
  },
  {
   "cell_type": "code",
   "execution_count": null,
   "metadata": {
    "ExecuteTime": {
     "end_time": "2017-11-08T03:44:56.972371Z",
     "start_time": "2017-11-08T03:44:56.856147Z"
    }
   },
   "outputs": [],
   "source": [
    "features = np.concatenate([inception_features_train, xception_features_train, vgg19_features_train], axis=-1)"
   ]
  },
  {
   "cell_type": "code",
   "execution_count": null,
   "metadata": {
    "ExecuteTime": {
     "end_time": "2017-11-08T03:19:56.506666Z",
     "start_time": "2017-11-08T03:19:56.501849Z"
    },
    "collapsed": true
   },
   "outputs": [],
   "source": [
    "features = inception_features_train"
   ]
  },
  {
   "cell_type": "code",
   "execution_count": null,
   "metadata": {
    "ExecuteTime": {
     "end_time": "2017-11-08T03:45:03.197184Z",
     "start_time": "2017-11-08T03:45:03.192829Z"
    }
   },
   "outputs": [],
   "source": [
    "features.shape"
   ]
  },
  {
   "cell_type": "code",
   "execution_count": null,
   "metadata": {
    "ExecuteTime": {
     "end_time": "2017-11-08T03:52:48.435015Z",
     "start_time": "2017-11-08T03:50:50.696423Z"
    }
   },
   "outputs": [],
   "source": [
    "model = Sequential()\n",
    "model.add(Dropout(0.5, input_shape=features.shape[1:]))\n",
    "model.add(Dense(class_len, activation='softmax'))\n",
    "\n",
    "adam = Adam(lr=0.00001, beta_1=0.9, beta_2=0.999, epsilon=1e-08, decay=0.0)\n",
    "model.compile(optimizer=adam,\n",
    "              loss='categorical_crossentropy',\n",
    "              metrics=['accuracy'])\n",
    "h = model.fit(features, y_train, batch_size=256, epochs=200, validation_split=0.1)"
   ]
  },
  {
   "cell_type": "code",
   "execution_count": null,
   "metadata": {
    "ExecuteTime": {
     "end_time": "2017-11-07T18:03:05.744625Z",
     "start_time": "2017-11-07T18:03:04.799358Z"
    }
   },
   "outputs": [],
   "source": [
    "import matplotlib.pyplot as plt\n",
    "\n",
    "%matplotlib inline\n",
    "%config InlineBackend.figure_format = 'retina'\n",
    "\n",
    "plt.figure(figsize=(10, 4))\n",
    "plt.subplot(1, 2, 1)\n",
    "plt.plot(h.history['loss'])\n",
    "plt.plot(h.history['val_loss'])\n",
    "plt.legend(['loss', 'val_loss'])\n",
    "plt.ylabel('loss')\n",
    "plt.xlabel('epoch')\n",
    "\n",
    "plt.subplot(1, 2, 2)\n",
    "plt.plot(h.history['acc'])\n",
    "plt.plot(h.history['val_acc'])\n",
    "plt.legend(['acc', 'val_acc'])\n",
    "plt.ylabel('acc')\n",
    "plt.xlabel('epoch')"
   ]
  },
  {
   "cell_type": "code",
   "execution_count": null,
   "metadata": {
    "ExecuteTime": {
     "end_time": "2017-11-08T03:01:08.924900Z",
     "start_time": "2017-11-08T02:59:17.610Z"
    }
   },
   "outputs": [],
   "source": [
    "sample = pd.read_csv('data/sample.csv')\n",
    "test_len = len(sample)\n",
    "X_test = np.zeros((test_length, dim, dim, 3), dtype=np.uint8)\n",
    "for i in tqdm(range(test_len)):\n",
    "    image_path = 'data/test/{}.jpg'.format(sample['id'][i])\n",
    "    X_test[i] = cv2.resize(cv2.imread(image_path), (dim,dim))"
   ]
  },
  {
   "cell_type": "code",
   "execution_count": null,
   "metadata": {
    "ExecuteTime": {
     "end_time": "2017-11-07T01:55:13.757525Z",
     "start_time": "2017-11-07T00:11:53.724768Z"
    }
   },
   "outputs": [],
   "source": [
    "inception_features_test = feature_extraction(InceptionV3, X_test)\n",
    "np.save('data/features/inception_features_test.npy', inception_features_test)"
   ]
  },
  {
   "cell_type": "code",
   "execution_count": null,
   "metadata": {
    "ExecuteTime": {
     "end_time": "2017-11-08T03:01:08.941926Z",
     "start_time": "2017-11-08T02:59:20.601Z"
    },
    "collapsed": true
   },
   "outputs": [],
   "source": [
    "xception_features_test = feature_extraction(Xception, X_test)\n",
    "np.save('data/features/xception_features_test.npy', xception_features_test)"
   ]
  },
  {
   "cell_type": "code",
   "execution_count": null,
   "metadata": {
    "collapsed": true
   },
   "outputs": [],
   "source": [
    "vgg19_features_test = feature_extraction(VGG19, X_test)\n",
    "np.save('data/features/vgg19_features_test.npy', vgg19_features_test)"
   ]
  },
  {
   "cell_type": "code",
   "execution_count": null,
   "metadata": {
    "collapsed": true
   },
   "outputs": [],
   "source": [
    "resnet_features_test = feature_extraction(ResNet50, X_test)\n",
    "np.save('data/features/resnet_features_test.npy', resnet_features_test)"
   ]
  },
  {
   "cell_type": "code",
   "execution_count": null,
   "metadata": {
    "ExecuteTime": {
     "end_time": "2017-11-07T18:10:21.377885Z",
     "start_time": "2017-11-07T18:10:20.396210Z"
    },
    "collapsed": true
   },
   "outputs": [],
   "source": [
    "y_pred = model.predict(inception_features_test, batch_size=64)"
   ]
  },
  {
   "cell_type": "code",
   "execution_count": null,
   "metadata": {
    "ExecuteTime": {
     "end_time": "2017-11-07T18:10:23.435880Z",
     "start_time": "2017-11-07T18:10:23.167882Z"
    },
    "collapsed": true
   },
   "outputs": [],
   "source": [
    "for i in breed:\n",
    "    sample[i] = y_pred[:,class_to_num[i]]"
   ]
  },
  {
   "cell_type": "code",
   "execution_count": null,
   "metadata": {
    "ExecuteTime": {
     "end_time": "2017-11-07T18:10:35.736792Z",
     "start_time": "2017-11-07T18:10:32.443902Z"
    },
    "collapsed": true
   },
   "outputs": [],
   "source": [
    "sample.to_csv('v2.csv', index=None)"
   ]
  }
 ],
 "metadata": {
  "kernelspec": {
   "display_name": "Python 3",
   "language": "python",
   "name": "python3"
  },
  "language_info": {
   "codemirror_mode": {
    "name": "ipython",
    "version": 3
   },
   "file_extension": ".py",
   "mimetype": "text/x-python",
   "name": "python",
   "nbconvert_exporter": "python",
   "pygments_lexer": "ipython3",
   "version": "3.6.1"
  },
  "varInspector": {
   "cols": {
    "lenName": 16,
    "lenType": 16,
    "lenVar": 40
   },
   "kernels_config": {
    "python": {
     "delete_cmd_postfix": "",
     "delete_cmd_prefix": "del ",
     "library": "var_list.py",
     "varRefreshCmd": "print(var_dic_list())"
    },
    "r": {
     "delete_cmd_postfix": ") ",
     "delete_cmd_prefix": "rm(",
     "library": "var_list.r",
     "varRefreshCmd": "cat(var_dic_list()) "
    }
   },
   "types_to_exclude": [
    "module",
    "function",
    "builtin_function_or_method",
    "instance",
    "_Feature"
   ],
   "window_display": false
  }
 },
 "nbformat": 4,
 "nbformat_minor": 2
}
