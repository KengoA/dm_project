{
 "cells": [
  {
   "cell_type": "code",
   "execution_count": null,
   "metadata": {
    "ExecuteTime": {
     "start_time": "2017-12-03T12:13:44.603Z"
    }
   },
   "outputs": [],
   "source": [
    "import os\n",
    "import matplotlib.pyplot as plt\n",
    "import numpy as np\n",
    "import pandas as pd\n",
    "from tqdm import tqdm\n",
    "from PIL import Image\n",
    "from sklearn.model_selection import train_test_split\n",
    "from IPython.display import SVG\n",
    "from keras.utils.vis_utils import model_to_dot\n",
    "\n",
    "from keras.layers import Dense, Conv2D, MaxPool2D, Dropout, Activation, Input, Flatten\n",
    "from keras.models import Model, Sequential, load_model, Input\n",
    "from keras.preprocessing.image import ImageDataGenerator, array_to_img, img_to_array, load_img\n",
    "from keras.applications import *\n",
    "from keras.optimizers import *\n",
    "from keras.regularizers import *\n",
    "from keras.applications.inception_v3 import preprocess_input"
   ]
  },
  {
   "cell_type": "code",
   "execution_count": null,
   "metadata": {
    "ExecuteTime": {
     "end_time": "2017-11-28T02:37:03.346208Z",
     "start_time": "2017-11-28T02:37:03.309886Z"
    },
    "collapsed": true
   },
   "outputs": [],
   "source": [
    "#Read the csv file\n",
    "df = pd.read_csv('data/labels.csv')\n",
    "\n",
    "#Sort by frequency and extract top 10\n",
    "dist = df.groupby('breed').count().rename(columns={'id':'freq'})\n",
    "most_common = dist.sort_values(by='freq',ascending=False)\n",
    "top_10 = [i for i in most_common[:10].index]"
   ]
  },
  {
   "cell_type": "code",
   "execution_count": null,
   "metadata": {
    "ExecuteTime": {
     "end_time": "2017-11-28T02:37:03.853395Z",
     "start_time": "2017-11-28T02:37:03.841219Z"
    }
   },
   "outputs": [],
   "source": [
    "top_10_freq = most_common.loc[top_10,:].sort_values(by='freq',ascending=False)\n",
    "baseline = top_10_freq['freq'][0]/(top_10_freq['freq'].sum())\n",
    "print('baseline',baseline)\n",
    "\n",
    "print('class imbalance', top_10_freq['freq'][0], top_10_freq['freq'][9])\n",
    "print(top_10_freq['freq'][0]/top_10_freq['freq'][9])"
   ]
  },
  {
   "cell_type": "code",
   "execution_count": null,
   "metadata": {
    "ExecuteTime": {
     "end_time": "2017-11-28T02:37:04.406747Z",
     "start_time": "2017-11-28T02:37:04.393449Z"
    },
    "collapsed": true
   },
   "outputs": [],
   "source": [
    "df = df[df['breed'].isin(top_10)]\n",
    "X = df['id']\n",
    "y = df['breed']\n",
    "X_train_id, X_test_id, y_train, y_test = train_test_split(X, y, test_size=0.2)\n",
    "X_train_id, X_val_id, y_train, y_val = train_test_split(X_train_id, y_train, test_size=0.1)"
   ]
  },
  {
   "cell_type": "code",
   "execution_count": null,
   "metadata": {
    "ExecuteTime": {
     "end_time": "2017-11-28T02:37:05.164592Z",
     "start_time": "2017-11-28T02:37:05.153156Z"
    },
    "collapsed": true
   },
   "outputs": [],
   "source": [
    "X_train_id.reset_index(inplace=True, drop=True)\n",
    "X_val_id.reset_index(inplace=True, drop=True)\n",
    "X_test_id.reset_index(inplace=True, drop=True)\n",
    "y_train.reset_index(inplace=True, drop=True)\n",
    "y_val.reset_index(inplace=True, drop=True)\n",
    "y_test.reset_index(inplace=True, drop=True)"
   ]
  },
  {
   "cell_type": "code",
   "execution_count": null,
   "metadata": {
    "ExecuteTime": {
     "end_time": "2017-11-28T02:37:06.031285Z",
     "start_time": "2017-11-28T02:37:06.018758Z"
    },
    "collapsed": true
   },
   "outputs": [],
   "source": [
    "folders = ['train10', 'test10','val10']\n",
    "for folder in folders: \n",
    "    for breed in top_10:\n",
    "        if not os.path.exists('data/{}/{}'.format(folder,breed)):\n",
    "            os.makedirs('data/{}/{}'.format(folder, breed))"
   ]
  },
  {
   "cell_type": "code",
   "execution_count": null,
   "metadata": {
    "ExecuteTime": {
     "end_time": "2017-11-28T02:37:29.427518Z",
     "start_time": "2017-11-28T02:37:06.840487Z"
    }
   },
   "outputs": [],
   "source": [
    "for i in tqdm(range(len(X_train_id))):\n",
    "    image_path = 'data/train/{}.jpg'.format(X_train_id[i])\n",
    "    img = Image.open(image_path)\n",
    "    img.save(\"data/train10/{}/{}.jpg\".format(y_train[i], X_train_id[i]))"
   ]
  },
  {
   "cell_type": "code",
   "execution_count": null,
   "metadata": {
    "ExecuteTime": {
     "end_time": "2017-11-28T02:37:32.156993Z",
     "start_time": "2017-11-28T02:37:29.740858Z"
    }
   },
   "outputs": [],
   "source": [
    "for i in tqdm(range(len(X_val_id))):\n",
    "    image_path = 'data/train/{}.jpg'.format(X_val_id[i])\n",
    "    img = Image.open(image_path)\n",
    "    img.save(\"data/val10/{}/{}.jpg\".format(y_val[i], X_val_id[i]))"
   ]
  },
  {
   "cell_type": "code",
   "execution_count": null,
   "metadata": {
    "ExecuteTime": {
     "end_time": "2017-11-28T02:37:39.028441Z",
     "start_time": "2017-11-28T02:37:32.462192Z"
    }
   },
   "outputs": [],
   "source": [
    "for i in tqdm(range(len(X_test_id))):\n",
    "    image_path = 'data/train/{}.jpg'.format(X_test_id[i])\n",
    "    img = Image.open(image_path)\n",
    "    img.save(\"data/test10/{}/{}.jpg\".format(y_test[i], X_test_id[i]))"
   ]
  },
  {
   "cell_type": "code",
   "execution_count": null,
   "metadata": {
    "ExecuteTime": {
     "end_time": "2017-11-28T02:37:59.643359Z",
     "start_time": "2017-11-28T02:37:59.640690Z"
    },
    "collapsed": true
   },
   "outputs": [],
   "source": [
    "dim = 150"
   ]
  },
  {
   "cell_type": "code",
   "execution_count": null,
   "metadata": {
    "ExecuteTime": {
     "end_time": "2017-11-28T04:35:15.804167Z",
     "start_time": "2017-11-28T04:35:15.731862Z"
    },
    "collapsed": true
   },
   "outputs": [],
   "source": [
    "datagen = ImageDataGenerator(\n",
    "          rotation_range=20,\n",
    "          rescale=1./255,\n",
    "          zoom_range=0.2,\n",
    "          shear_range=0.2,\n",
    "          horizontal_flip=True,\n",
    "          )\n",
    "\n",
    "image_path = 'data/train/{}.jpg'.format(X_train_id[10])\n",
    "img = load_img(image_path,target_size=(dim, dim))\n",
    "x = img_to_array(img) \n",
    "x = x.reshape((1,) + x.shape)\n",
    "\n",
    "i = 0\n",
    "for batch in datagen.flow(x, batch_size=1,\n",
    "                          save_to_dir='data/preview',\n",
    "                          save_prefix='sample',\n",
    "                          save_format='jpg'):\n",
    "    i += 1\n",
    "    if i >= 5:\n",
    "        break  # otherwise the generator would loop indefinitely"
   ]
  },
  {
   "cell_type": "code",
   "execution_count": null,
   "metadata": {
    "ExecuteTime": {
     "end_time": "2017-11-28T02:38:24.252673Z",
     "start_time": "2017-11-28T02:38:24.115568Z"
    },
    "collapsed": true
   },
   "outputs": [],
   "source": [
    "model = Sequential()\n",
    "\n",
    "model.add(Conv2D(32,(3,3), input_shape=(dim,dim,3)))\n",
    "model.add(Activation('relu'))\n",
    "model.add(MaxPool2D(pool_size=(2,2)))\n",
    "\n",
    "model.add(Conv2D(32,(3,3)))\n",
    "model.add(Activation('relu'))\n",
    "model.add(MaxPool2D(pool_size=(2,2)))\n",
    "\n",
    "model.add(Conv2D(64,(3,3)))\n",
    "model.add(Activation('relu'))\n",
    "model.add(MaxPool2D(pool_size=(2,2)))\n",
    "\n",
    "model.add(Flatten())\n",
    "model.add(Dense(64))\n",
    "model.add(Activation('relu'))\n",
    "model.add(Dropout(0.4))\n",
    "model.add(Dense(10, activation='softmax'))\n",
    "adam = Adam(lr=0.001, beta_1=0.9, beta_2=0.999, epsilon=1e-08, decay=0.0)\n",
    "nadam = Nadam(lr=0.002, beta_1=0.9, beta_2=0.999, epsilon=1e-08, schedule_decay=0.004)\n",
    "model.compile(optimizer=adam,loss='categorical_crossentropy', metrics=[\"accuracy\"])"
   ]
  },
  {
   "cell_type": "code",
   "execution_count": null,
   "metadata": {
    "ExecuteTime": {
     "end_time": "2017-11-28T02:38:24.968209Z",
     "start_time": "2017-11-28T02:38:24.960622Z"
    }
   },
   "outputs": [],
   "source": [
    "model.summary()"
   ]
  },
  {
   "cell_type": "code",
   "execution_count": null,
   "metadata": {
    "ExecuteTime": {
     "end_time": "2017-11-28T02:38:26.228308Z",
     "start_time": "2017-11-28T02:38:25.898444Z"
    }
   },
   "outputs": [],
   "source": [
    "batch_size = 64\n",
    "\n",
    "# this is the augmentation configuration we will use for training\n",
    "train_datagen = ImageDataGenerator(\n",
    "        rotation_range=20,\n",
    "        rescale=1./255,\n",
    "        zoom_range=0.2,\n",
    "        shear_range=0.2,\n",
    "        horizontal_flip=True)\n",
    "\n",
    "val_datagen = ImageDataGenerator(rescale=1./255)\n",
    "test_datagen = ImageDataGenerator(rescale=1./255)\n",
    "\n",
    "train_generator = train_datagen.flow_from_directory(\n",
    "        'data/train10',\n",
    "        target_size=(dim, dim),\n",
    "        batch_size=batch_size,\n",
    "        class_mode='categorical')\n",
    "\n",
    "val_generator = val_datagen.flow_from_directory(\n",
    "        'data/val10',\n",
    "        target_size=(dim, dim),\n",
    "        batch_size=batch_size,\n",
    "        class_mode='categorical')\n",
    "\n",
    "test_generator = test_datagen.flow_from_directory(\n",
    "        'data/test10',\n",
    "        target_size=(dim, dim),\n",
    "        batch_size=batch_size,\n",
    "        class_mode='categorical')"
   ]
  },
  {
   "cell_type": "code",
   "execution_count": null,
   "metadata": {
    "ExecuteTime": {
     "end_time": "2017-11-28T03:45:50.752667Z",
     "start_time": "2017-11-28T02:38:27.064244Z"
    }
   },
   "outputs": [],
   "source": [
    "h = model.fit_generator(\n",
    "        train_generator,\n",
    "        steps_per_epoch=2000 // batch_size,\n",
    "        epochs=50,\n",
    "        validation_data=val_generator,\n",
    "        validation_steps=800 // batch_size)"
   ]
  },
  {
   "cell_type": "code",
   "execution_count": null,
   "metadata": {
    "ExecuteTime": {
     "end_time": "2017-11-28T03:54:20.170808Z",
     "start_time": "2017-11-28T03:53:43.585459Z"
    }
   },
   "outputs": [],
   "source": [
    "model.evaluate_generator(test_generator, steps=50)"
   ]
  },
  {
   "cell_type": "code",
   "execution_count": null,
   "metadata": {
    "ExecuteTime": {
     "end_time": "2017-11-28T05:01:12.753937Z",
     "start_time": "2017-11-28T05:01:12.592681Z"
    }
   },
   "outputs": [],
   "source": [
    "print('minimum val_loss is {} at epoch {}'.format(min(h.history['val_loss']), np.argmin(h.history['val_loss'])+1))\n",
    "print('maximum accuracy is {} at epoch {}'.format(max(h.history['val_acc']), np.argmax(h.history['val_acc'])+1))"
   ]
  },
  {
   "cell_type": "code",
   "execution_count": null,
   "metadata": {
    "ExecuteTime": {
     "end_time": "2017-11-28T03:53:01.734489Z",
     "start_time": "2017-11-28T03:53:01.066033Z"
    }
   },
   "outputs": [],
   "source": [
    "SVG(model_to_dot(model, show_shapes=True).create(prog='dot', format='svg'))"
   ]
  },
  {
   "cell_type": "code",
   "execution_count": null,
   "metadata": {
    "ExecuteTime": {
     "end_time": "2017-11-28T03:57:09.409548Z",
     "start_time": "2017-11-28T03:57:08.170364Z"
    }
   },
   "outputs": [],
   "source": [
    "%matplotlib inline\n",
    "%config InlineBackend.figure_format = 'retina'\n",
    "\n",
    "plt.figure(figsize=(20, 8))\n",
    "plt.subplot(1, 2, 1)\n",
    "plt.plot(h.history['loss'])\n",
    "plt.plot(h.history['val_loss'])\n",
    "plt.legend(['loss', 'val_loss'])\n",
    "plt.ylabel('loss')\n",
    "plt.xlabel('epoch')\n",
    "\n",
    "plt.subplot(1, 2, 2)\n",
    "plt.plot(h.history['acc'])\n",
    "plt.plot(h.history['val_acc'])\n",
    "plt.legend(['acc', 'val_acc'])\n",
    "plt.ylabel('acc')\n",
    "plt.xlabel('epoch')"
   ]
  }
 ],
 "metadata": {
  "kernelspec": {
   "display_name": "Python 3",
   "language": "python",
   "name": "python3"
  },
  "language_info": {
   "codemirror_mode": {
    "name": "ipython",
    "version": 3
   },
   "file_extension": ".py",
   "mimetype": "text/x-python",
   "name": "python",
   "nbconvert_exporter": "python",
   "pygments_lexer": "ipython3",
   "version": "3.6.1"
  },
  "varInspector": {
   "cols": {
    "lenName": 16,
    "lenType": 16,
    "lenVar": 40
   },
   "kernels_config": {
    "python": {
     "delete_cmd_postfix": "",
     "delete_cmd_prefix": "del ",
     "library": "var_list.py",
     "varRefreshCmd": "print(var_dic_list())"
    },
    "r": {
     "delete_cmd_postfix": ") ",
     "delete_cmd_prefix": "rm(",
     "library": "var_list.r",
     "varRefreshCmd": "cat(var_dic_list()) "
    }
   },
   "types_to_exclude": [
    "module",
    "function",
    "builtin_function_or_method",
    "instance",
    "_Feature"
   ],
   "window_display": false
  }
 },
 "nbformat": 4,
 "nbformat_minor": 2
}
