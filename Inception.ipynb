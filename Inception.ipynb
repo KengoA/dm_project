{
 "cells": [
  {
   "cell_type": "code",
   "execution_count": null,
   "metadata": {
    "ExecuteTime": {
     "end_time": "2017-11-28T05:09:07.905601Z",
     "start_time": "2017-11-28T05:09:07.870446Z"
    },
    "collapsed": true
   },
   "outputs": [],
   "source": [
    "import cv2\n",
    "import numpy as np\n",
    "import pandas as pd\n",
    "from random import randint\n",
    "from PIL import Image\n",
    "import matplotlib.pyplot as plt\n",
    "from sklearn.model_selection import train_test_split\n",
    "from tqdm import tqdm\n",
    "from datetime import datetime\n",
    "from keras.layers import Dense, Lambda, GlobalAveragePooling2D, Dropout, Activation, MaxPool2D\n",
    "from keras.models import Model, Sequential, load_model, Input\n",
    "from keras.applications import *\n",
    "from keras.optimizers import *\n",
    "from keras.regularizers import *\n",
    "from keras.applications.inception_v3 import preprocess_input\n",
    "\n",
    "%matplotlib inline\n",
    "%config InlineBackend.figure_format = 'retina'"
   ]
  },
  {
   "cell_type": "code",
   "execution_count": null,
   "metadata": {
    "ExecuteTime": {
     "end_time": "2017-11-28T05:09:08.719526Z",
     "start_time": "2017-11-28T05:09:08.570569Z"
    },
    "collapsed": true
   },
   "outputs": [],
   "source": [
    "#Read the csv file\n",
    "df = pd.read_csv('data/labels.csv')\n",
    "\n",
    "#Sort by frequency and extract top 10\n",
    "dist = df.groupby('breed').count().rename(columns={'id':'freq'})\n",
    "most_common = dist.sort_values(by='freq',ascending=False)\n",
    "top_10 = [i for i in most_common[:10].index]"
   ]
  },
  {
   "cell_type": "code",
   "execution_count": null,
   "metadata": {
    "ExecuteTime": {
     "end_time": "2017-11-28T05:09:09.650034Z",
     "start_time": "2017-11-28T05:09:09.646244Z"
    },
    "collapsed": true
   },
   "outputs": [],
   "source": [
    "dim = 150"
   ]
  },
  {
   "cell_type": "code",
   "execution_count": null,
   "metadata": {
    "ExecuteTime": {
     "end_time": "2017-11-28T05:09:10.439638Z",
     "start_time": "2017-11-28T05:09:10.395252Z"
    },
    "collapsed": true
   },
   "outputs": [],
   "source": [
    "df = df[df['breed'].isin(top_10)]\n",
    "X = df['id']\n",
    "y = df['breed']\n",
    "X_train_id, X_test_id, y_train, y_test = train_test_split(X, y, test_size=0.2)\n",
    "\n",
    "X_train_id.reset_index(drop=True, inplace=True)\n",
    "X_test_id.reset_index(drop=True, inplace=True)\n",
    "y_train.reset_index(drop=True, inplace=True)\n",
    "y_test.reset_index(drop=True, inplace=True)"
   ]
  },
  {
   "cell_type": "code",
   "execution_count": null,
   "metadata": {
    "ExecuteTime": {
     "end_time": "2017-11-28T05:09:11.238416Z",
     "start_time": "2017-11-28T05:09:11.229672Z"
    },
    "collapsed": true
   },
   "outputs": [],
   "source": [
    "train_len = len(y)\n",
    "breeds = set(y)\n",
    "class_len = len(breeds)\n",
    "class_to_num = dict(zip(breeds, range(class_len)))\n",
    "num_to_class = dict(zip(range(class_len), breeds))"
   ]
  },
  {
   "cell_type": "code",
   "execution_count": null,
   "metadata": {
    "ExecuteTime": {
     "end_time": "2017-11-28T05:09:11.942561Z",
     "start_time": "2017-11-28T05:09:11.931991Z"
    },
    "collapsed": true
   },
   "outputs": [],
   "source": [
    "X_train_resized = np.zeros((len(X_train_id), dim, dim, 3),dtype=np.uint8)\n",
    "y_train_categorical = np.zeros((len(X_train_id), 10), dtype=np.uint8)"
   ]
  },
  {
   "cell_type": "code",
   "execution_count": null,
   "metadata": {
    "ExecuteTime": {
     "end_time": "2017-11-28T05:09:22.764552Z",
     "start_time": "2017-11-28T05:09:12.617143Z"
    }
   },
   "outputs": [],
   "source": [
    "for i in tqdm(range(len(X_train_id))):\n",
    "    image_path = 'data/train/{}.jpg'.format(X_train_id[i])\n",
    "    img = Image.open(image_path)\n",
    "    X_train_resized[i] = cv2.resize(cv2.imread(image_path), (dim,dim))\n",
    "    y_train_categorical[i][class_to_num[y_train[i]]] = 1"
   ]
  },
  {
   "cell_type": "code",
   "execution_count": null,
   "metadata": {
    "ExecuteTime": {
     "end_time": "2017-11-28T05:09:22.945007Z",
     "start_time": "2017-11-28T05:09:22.933668Z"
    },
    "collapsed": true
   },
   "outputs": [],
   "source": [
    "X_test_resized = np.zeros((len(X_test_id), dim, dim, 3),dtype=np.uint8)\n",
    "y_test_categorical = np.zeros((len(X_test_id), 10),dtype=np.uint8)"
   ]
  },
  {
   "cell_type": "code",
   "execution_count": null,
   "metadata": {
    "ExecuteTime": {
     "end_time": "2017-11-28T05:09:25.895433Z",
     "start_time": "2017-11-28T05:09:23.141991Z"
    }
   },
   "outputs": [],
   "source": [
    "for i in tqdm(range(len(X_test_id))):\n",
    "    image_path = 'data/train/{}.jpg'.format(X_test_id[i])\n",
    "    img = Image.open(image_path)\n",
    "    X_test_resized[i] = cv2.resize(cv2.imread(image_path), (dim,dim))\n",
    "    y_test_categorical[i][class_to_num[y_test[i]]] = 1"
   ]
  },
  {
   "cell_type": "code",
   "execution_count": null,
   "metadata": {
    "ExecuteTime": {
     "end_time": "2017-11-28T05:09:26.570782Z",
     "start_time": "2017-11-28T05:09:26.544082Z"
    },
    "collapsed": true
   },
   "outputs": [],
   "source": [
    "def feature_extraction(base_model, X):\n",
    "    model = base_model(include_top=False, input_shape=(dim,dim,3), weights='imagenet')\n",
    "    inputs = Input((dim, dim, 3))\n",
    "    x = inputs\n",
    "    x = Lambda(preprocess_input, name='preprocessing')(x)\n",
    "    x = model(x)\n",
    "    x = GlobalAveragePooling2D()(x)\n",
    "    model = Model(inputs,x)\n",
    "    features = model.predict(X, batch_size=32, verbose=5)\n",
    "    return features"
   ]
  },
  {
   "cell_type": "code",
   "execution_count": null,
   "metadata": {
    "ExecuteTime": {
     "end_time": "2017-11-28T05:22:52.535647Z",
     "start_time": "2017-11-28T05:09:27.325681Z"
    },
    "collapsed": true
   },
   "outputs": [],
   "source": [
    "inception_features_train = feature_extraction(InceptionV3, X_train_resized)\n",
    "np.save('data/features/10_inception_features_train.npy', inception_features_train)"
   ]
  },
  {
   "cell_type": "code",
   "execution_count": null,
   "metadata": {
    "ExecuteTime": {
     "start_time": "2017-11-28T05:09:27.926Z"
    },
    "collapsed": true
   },
   "outputs": [],
   "source": [
    "inception_features_test = feature_extraction(InceptionV3, X_test_resized)\n",
    "np.save('data/features/10_inception_features_test.npy', inception_features_test)"
   ]
  },
  {
   "cell_type": "code",
   "execution_count": null,
   "metadata": {
    "ExecuteTime": {
     "end_time": "2017-11-28T05:05:47.755286Z",
     "start_time": "2017-11-28T05:05:43.337401Z"
    }
   },
   "outputs": [],
   "source": [
    "#Fully connected neural network\n",
    "model = Sequential()\n",
    "model.add(Dropout(0.3, input_shape=inception_features_train.shape[1:]))\n",
    "model.add(Dense(10, activation='softmax'))\n",
    "\n",
    "adam = Adam(lr=0.001, beta_1=0.9, beta_2=0.999, epsilon=1e-08, decay=0.0)\n",
    "model.compile(optimizer=adam,\n",
    "              loss='categorical_crossentropy',\n",
    "              metrics=['accuracy'])\n",
    "h = model.fit(inception_features_train, y_train_categorical, batch_size=128, epochs=50, validation_split=0.1)"
   ]
  },
  {
   "cell_type": "code",
   "execution_count": null,
   "metadata": {
    "ExecuteTime": {
     "end_time": "2017-11-28T05:05:50.336365Z",
     "start_time": "2017-11-28T05:05:50.320997Z"
    }
   },
   "outputs": [],
   "source": [
    "model.evaluate(inception_features_test, y_test_categorical, batch_size=128, verbose=1, sample_weight=None)"
   ]
  },
  {
   "cell_type": "code",
   "execution_count": null,
   "metadata": {
    "ExecuteTime": {
     "end_time": "2017-11-28T05:03:18.898913Z",
     "start_time": "2017-11-28T05:03:18.887082Z"
    }
   },
   "outputs": [],
   "source": [
    "print('minimum val_loss is {} at epoch {}'.format(min(h.history['val_loss']), np.argmin(h.history['val_loss'])+1))\n",
    "print('maximum accuracy is {} at epoch {}'.format(max(h.history['val_acc']), np.argmax(h.history['val_acc'])+1))"
   ]
  },
  {
   "cell_type": "code",
   "execution_count": null,
   "metadata": {
    "ExecuteTime": {
     "end_time": "2017-11-28T05:03:26.318098Z",
     "start_time": "2017-11-28T05:03:24.923943Z"
    }
   },
   "outputs": [],
   "source": [
    "%matplotlib inline\n",
    "%config InlineBackend.figure_format = 'retina'\n",
    "\n",
    "plt.figure(figsize=(20, 8))\n",
    "plt.subplot(1, 2, 1)\n",
    "plt.plot(h.history['loss'])\n",
    "plt.plot(h.history['val_loss'])\n",
    "plt.legend(['loss', 'val_loss'])\n",
    "plt.ylabel('loss')\n",
    "plt.xlabel('epoch')\n",
    "\n",
    "plt.subplot(1, 2, 2)\n",
    "plt.plot(h.history['acc'])\n",
    "plt.plot(h.history['val_acc'])\n",
    "plt.legend(['acc', 'val_acc'])\n",
    "plt.ylabel('acc')\n",
    "plt.xlabel('epoch')"
   ]
  }
 ],
 "metadata": {
  "kernelspec": {
   "display_name": "Python 3",
   "language": "python",
   "name": "python3"
  },
  "language_info": {
   "codemirror_mode": {
    "name": "ipython",
    "version": 3
   },
   "file_extension": ".py",
   "mimetype": "text/x-python",
   "name": "python",
   "nbconvert_exporter": "python",
   "pygments_lexer": "ipython3",
   "version": "3.6.1"
  },
  "varInspector": {
   "cols": {
    "lenName": 16,
    "lenType": 16,
    "lenVar": 40
   },
   "kernels_config": {
    "python": {
     "delete_cmd_postfix": "",
     "delete_cmd_prefix": "del ",
     "library": "var_list.py",
     "varRefreshCmd": "print(var_dic_list())"
    },
    "r": {
     "delete_cmd_postfix": ") ",
     "delete_cmd_prefix": "rm(",
     "library": "var_list.r",
     "varRefreshCmd": "cat(var_dic_list()) "
    }
   },
   "types_to_exclude": [
    "module",
    "function",
    "builtin_function_or_method",
    "instance",
    "_Feature"
   ],
   "window_display": false
  }
 },
 "nbformat": 4,
 "nbformat_minor": 2
}
